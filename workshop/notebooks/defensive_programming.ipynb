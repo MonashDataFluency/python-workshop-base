{
 "cells": [
  {
   "cell_type": "markdown",
   "metadata": {
    "tags": [
     "solution"
    ]
   },
   "source": [
    "## Defensive Programming\n",
    "*Estimated teaching time:* 30 min\n",
    "\n",
    "*Estimated challenge time:* 0 min\n",
    "\n",
    "\n",
    "## Module information\n",
    "\n",
    "*Key questions:*\n",
    "\n",
    "  - \"How can I make my programs more reliable?\"\n",
    "    \n",
    "*Learning objectives:*\n",
    "\n",
    "  - Explain what an assertion is.\n",
    "  - Add assertions that check the program's state is correct. \n",
    "  - Correctly add precondition and postcondition assertions to functions.\n",
    "  - Explain what test-driven development is, and use it when creating new functions.\n",
    "  - Explain why variables should be initialized using actual data values rather than arbitrary constants.\n",
    "---"
   ]
  },
  {
   "cell_type": "markdown",
   "metadata": {},
   "source": [
    "## Defensive Programming\n",
    "\n",
    "\n",
    "Our previous lessons have introduced the basic tools of programming: variables and lists, file operations, data visualisation, loops, conditionals, and functions. What they haven’t done is show us how to tell whether a program is getting the right answer, and how to tell if it’s still getting the right answer as we make changes to it.\n",
    "\n",
    "To achieve that, we need to:\n",
    "\n",
    "  - Write programs that check their own operation.\n",
    "  - Write and run tests for widely-used functions.\n",
    "  - Make sure we know what “correct” actually means.\n",
    "    \n",
    "The good news is, doing these things will speed up our programming, not slow it down. As in real carpentry — the kind done with lumber — the time saved by measuring carefully before cutting a piece of wood is much greater than the time that measuring takes."
   ]
  },
  {
   "cell_type": "markdown",
   "metadata": {},
   "source": [
    "## Assertions\n",
    "\n",
    "The first step toward getting the right answers from our programs is to assume that mistakes will happen and to guard against them. This is called defensive programming, and the most common way to do it is to add assertions to our code so that it checks itself as it runs. An assertion is simply a statement that something must be true at a certain point in a program. When Python sees one, it evaluates the assertion’s condition. If it’s true, Python does nothing, but if it’s false, Python halts the program immediately and prints the error message if one is provided. For example, this piece of code halts as soon as the loop encounters a value that isn’t positive:"
   ]
  },
  {
   "cell_type": "markdown",
   "metadata": {},
   "source": [
    "``` python\n",
    "numbers = [1.5, 2.3, 0.7, -0.001, 4.4]\n",
    "total = 0.0\n",
    "for n in numbers:\n",
    "    assert n > 0.0, 'Data should only contain positive values'\n",
    "    total += n\n",
    "print('total is:', total)\n",
    "\n",
    "```"
   ]
  },
  {
   "cell_type": "markdown",
   "metadata": {},
   "source": [
    "```python\n",
    "---------------------------------------------------------------------------\n",
    "AssertionError                            Traceback (most recent call last)\n",
    "<ipython-input-1-091518d2f2e2> in <module>()\n",
    "      3 total = 0.0\n",
    "      4 for n in numbers:\n",
    "----> 5     assert n > 0.0, 'Data should only contain positive values'\n",
    "      6     total += n\n",
    "      7 print('total is:', total)\n",
    "\n",
    "AssertionError: Data should only contain positive values\n",
    "\n",
    "```"
   ]
  },
  {
   "cell_type": "markdown",
   "metadata": {},
   "source": [
    "Programs like the Firefox browser are full of assertions: 10-20% of the code they contain are there to check that the other 80–90% are working correctly. Broadly speaking, assertions fall into three categories:\n",
    "\n",
    "A `precondition` is something that must be true at the start of a function in order for it to work correctly.\n",
    "\n",
    "A `postcondition` is something that the function guarantees is true when it finishes.\n",
    "\n",
    "An `invariant` is something that is always true at a particular point inside a piece of code.\n",
    "\n",
    "For example, suppose we are representing rectangles using a `tuple` of four coordinates `(x0, y0, x1, y1)`, representing the lower left and upper right corners of the rectangle. In order to do some calculations, we need to normalize the rectangle so that the lower left corner is at the origin and the longest side is 1.0 units long. This function does that, but checks that its input is correctly formatted and that its result makes sense:"
   ]
  },
  {
   "cell_type": "code",
   "execution_count": 2,
   "metadata": {},
   "outputs": [],
   "source": [
    "def normalize_rectangle(rect):\n",
    "    '''Normalizes a rectangle so that it is at the origin and 1.0 units long on its longest axis.\n",
    "    Input should be of the format (x0, y0, x1, y1).\n",
    "    (x0, y0) and (x1, y1) define the lower left and upper right corners\n",
    "    of the rectangle, respectively.'''\n",
    "    assert len(rect) == 4, 'Rectangles must contain 4 coordinates'\n",
    "    x0, y0, x1, y1 = rect\n",
    "    assert x0 < x1, 'Invalid X coordinates'\n",
    "    assert y0 < y1, 'Invalid Y coordinates'\n",
    "\n",
    "    dx = x1 - x0\n",
    "    dy = y1 - y0\n",
    "    if dx > dy:\n",
    "        scaled = float(dx) / dy\n",
    "        upper_x, upper_y = 1.0, scaled\n",
    "    else:\n",
    "        scaled = float(dx) / dy\n",
    "        upper_x, upper_y = scaled, 1.0\n",
    "\n",
    "    assert 0 < upper_x <= 1.0, 'Calculated upper X coordinate invalid'\n",
    "    assert 0 < upper_y <= 1.0, 'Calculated upper Y coordinate invalid'\n",
    "\n",
    "    return (0, 0, upper_x, upper_y)"
   ]
  },
  {
   "cell_type": "markdown",
   "metadata": {},
   "source": [
    "The preconditions on lines 3, 5, and 6 catch invalid inputs:"
   ]
  },
  {
   "cell_type": "markdown",
   "metadata": {},
   "source": [
    "``` python\n",
    "print(normalize_rectangle( (0.0, 1.0, 2.0) )) # missing the fourth coordinate\n",
    "\n",
    "```"
   ]
  },
  {
   "cell_type": "markdown",
   "metadata": {},
   "source": [
    "``` python\n",
    "---------------------------------------------------------------------------\n",
    "AssertionError                            Traceback (most recent call last)\n",
    "<ipython-input-3-1b9cd8e18a1f> in <module>()\n",
    "----> 1 print(normalize_rectangle( (0.0, 1.0, 2.0) )) # missing the fourth coordinate\n",
    "\n",
    "<ipython-input-2-c94cf5b065b9> in normalize_rectangle(rect)\n",
    "      4     (x0, y0) and (x1, y1) define the lower left and upper right corners\n",
    "      5     of the rectangle, respectively.'''\n",
    "----> 6     assert len(rect) == 4, 'Rectangles must contain 4 coordinates'\n",
    "      7     x0, y0, x1, y1 = rect\n",
    "      8     assert x0 < x1, 'Invalid X coordinates'\n",
    "\n",
    "AssertionError: Rectangles must contain 4 coordinates\n",
    "\n",
    "```"
   ]
  },
  {
   "cell_type": "markdown",
   "metadata": {},
   "source": [
    "```python\n",
    "print(normalize_rectangle( (4.0, 2.0, 1.0, 5.0) )) # X axis inverted\n",
    "```"
   ]
  },
  {
   "cell_type": "markdown",
   "metadata": {},
   "source": [
    "```python\n",
    "---------------------------------------------------------------------------\n",
    "AssertionError                            Traceback (most recent call last)\n",
    "<ipython-input-4-325036405532> in <module>()\n",
    "----> 1 print(normalize_rectangle( (4.0, 2.0, 1.0, 5.0) )) # X axis inverted\n",
    "\n",
    "<ipython-input-2-c94cf5b065b9> in normalize_rectangle(rect)\n",
    "      6     assert len(rect) == 4, 'Rectangles must contain 4 coordinates'\n",
    "      7     x0, y0, x1, y1 = rect\n",
    "----> 8     assert x0 < x1, 'Invalid X coordinates'\n",
    "      9     assert y0 < y1, 'Invalid Y coordinates'\n",
    "     10 \n",
    "\n",
    "AssertionError: Invalid X coordinates\n",
    "\n",
    "```"
   ]
  },
  {
   "cell_type": "markdown",
   "metadata": {},
   "source": [
    "The post-conditions on lines 17 and 18 help us catch bugs by telling us when our calculations cannot have been correct. For example, if we normalize a rectangle that is taller than it is wide everything seems OK:"
   ]
  },
  {
   "cell_type": "code",
   "execution_count": 5,
   "metadata": {},
   "outputs": [
    {
     "name": "stdout",
     "output_type": "stream",
     "text": [
      "(0, 0, 0.2, 1.0)\n"
     ]
    }
   ],
   "source": [
    "print(normalize_rectangle( (0.0, 0.0, 1.0, 5.0) ))"
   ]
  },
  {
   "cell_type": "markdown",
   "metadata": {},
   "source": [
    "but if we normalize one that’s wider than it is tall, the assertion is triggered:"
   ]
  },
  {
   "cell_type": "markdown",
   "metadata": {},
   "source": [
    "```python\n",
    "print(normalize_rectangle( (0.0, 0.0, 5.0, 1.0) ))\n",
    "```"
   ]
  },
  {
   "cell_type": "markdown",
   "metadata": {},
   "source": [
    "``` python\n",
    "---------------------------------------------------------------------------\n",
    "AssertionError                            Traceback (most recent call last)\n",
    "<ipython-input-6-8d4a48f1d068> in <module>()\n",
    "----> 1 print(normalize_rectangle( (0.0, 0.0, 5.0, 1.0) ))\n",
    "\n",
    "<ipython-input-2-c94cf5b065b9> in normalize_rectangle(rect)\n",
    "     19 \n",
    "     20     assert 0 < upper_x <= 1.0, 'Calculated upper X coordinate invalid'\n",
    "---> 21     assert 0 < upper_y <= 1.0, 'Calculated upper Y coordinate invalid'\n",
    "     22 \n",
    "     23     return (0, 0, upper_x, upper_y)\n",
    "\n",
    "AssertionError: Calculated upper Y coordinate invalid\n",
    "\n",
    "```"
   ]
  },
  {
   "cell_type": "markdown",
   "metadata": {},
   "source": [
    "Re-reading our function, we realize that line 11 should divide `dy` by `dx` rather than `dx` by `dy`.  If we had left out the assertion at the end of the function, we would have created and returned something that had the right shape as a valid answer, but wasn’t. Detecting and debugging that would almost certainly have taken more time in the long run than writing the assertion.\n",
    "\n",
    "But assertions aren’t just about catching errors: they also help people understand programs. Each assertion gives the person reading the program a chance to check (consciously or otherwise) that their understanding matches what the code is doing.\n",
    "\n",
    "Most good programmers follow two rules when adding assertions to their code. The first is, fail early, fail often. The greater the distance between when and where an error occurs and when it’s noticed, the harder the error will be to debug, so good code catches mistakes as early as possible.\n",
    "\n",
    "The second rule is, turn bugs into assertions or tests. Whenever you fix a bug, write an assertion that catches the mistake should you make it again. If you made a mistake in a piece of code, the odds are good that you have made other mistakes nearby, or will make the same mistake (or a related one) the next time you change it. Writing assertions to check that you haven’t regressed (i.e., haven’t re-introduced an old problem) can save a lot of time in the long run, and helps to warn people who are reading the code (including your future self) that this bit is tricky.\n",
    "\n"
   ]
  },
  {
   "cell_type": "markdown",
   "metadata": {},
   "source": [
    "### Test-Driven Development\n",
    "\n",
    "An assertion checks that something is true at a particular point in the program. The next step is to check the overall behavior of a piece of code, i.e., to make sure that it produces the right output when it’s given a particular input. For example, suppose we need to find where two or more time series overlap. The range of each time series is represented as a pair of numbers, which are the time the interval started and ended. The output is the largest range that they all include:"
   ]
  },
  {
   "cell_type": "markdown",
   "metadata": {},
   "source": [
    "![test diagram](images/testing.svg)"
   ]
  },
  {
   "cell_type": "markdown",
   "metadata": {},
   "source": [
    "Most novice programmers would solve this problem like this:\n",
    "\n",
    " 1. Write a function `range_overlap`.\n",
    " 2. Call it interactively on two or three different inputs.\n",
    " 3. If it produces the wrong answer, fix the function and re-run that test.\n",
    "\n",
    "This clearly works — after all, thousands of scientists are doing it right now — but there’s a better way:\n",
    "\n",
    "1. Write a short function for each test.\n",
    "2. Write a `range_overlap` function that should pass those tests.\n",
    "3. If `range_overlap` produces any wrong answers, fix it and re-run the test functions.\n",
    "\n",
    "Writing the tests before writing the function they exercise is called `test-driven development` (TDD). Its advocates believe it produces better code faster because:\n",
    "\n",
    "1. If people write tests after writing the thing to be tested, they are subject to confirmation bias, i.e., they subconsciously write tests to show that their code is correct, rather than to find errors.\n",
    "2. Writing tests helps programmers figure out what the function is actually supposed to do.\n",
    "\n",
    "Here are three test functions for `range_overlap`:"
   ]
  },
  {
   "cell_type": "markdown",
   "metadata": {},
   "source": [
    "``` python\n",
    "assert range_overlap([ (0.0, 1.0) ]) == (0.0, 1.0)\n",
    "assert range_overlap([ (2.0, 3.0), (2.0, 4.0) ]) == (2.0, 3.0)\n",
    "assert range_overlap([ (0.0, 1.0), (0.0, 2.0), (-1.0, 1.0) ]) == (0.0, 1.0)\n",
    "```"
   ]
  },
  {
   "cell_type": "markdown",
   "metadata": {},
   "source": [
    "```python\n",
    "---------------------------------------------------------------------------\n",
    "NameError                                 Traceback (most recent call last)\n",
    "<ipython-input-9-dc16b942c085> in <module>()\n",
    "----> 1 assert range_overlap([ (0.0, 1.0) ]) == (0.0, 1.0)\n",
    "      2 assert range_overlap([ (2.0, 3.0), (2.0, 4.0) ]) == (2.0, 3.0)\n",
    "      3 assert range_overlap([ (0.0, 1.0), (0.0, 2.0), (-1.0, 1.0) ]) == (0.0, 1.0)\n",
    "\n",
    "NameError: name 'range_overlap' is not defined\n",
    "```\n"
   ]
  },
  {
   "cell_type": "markdown",
   "metadata": {},
   "source": [
    "The error is actually reassuring: we haven’t written `range_overlap` yet, so if the tests passed, it would be a sign that someone else had and that we were accidentally using their function.\n",
    "\n",
    "And as a bonus of writing these tests, we’ve implicitly defined what our input and output look like: we expect a list of pairs as input, and produce a single pair as output.\n",
    "\n",
    "Something important is missing, though. We don’t have any tests for the case where the ranges don’t overlap at all:"
   ]
  },
  {
   "cell_type": "markdown",
   "metadata": {},
   "source": [
    "```python\n",
    "assert range_overlap([ (0.0, 1.0), (5.0, 6.0) ]) == ???\n",
    "```"
   ]
  },
  {
   "cell_type": "markdown",
   "metadata": {},
   "source": [
    "What should `range_overlap` do in this case: fail with an error message, produce a special value like `(0.0, 0.0)` to signal that there’s no overlap, or *something* else? Any actual implementation of the function will do one of these things; writing the tests first helps us figure out which is *best before* we’re emotionally invested in whatever we happened to write before we realized there was an issue.\n",
    "\n",
    "And what about this case?"
   ]
  },
  {
   "cell_type": "markdown",
   "metadata": {},
   "source": [
    "```python\n",
    "assert range_overlap([ (0.0, 1.0), (1.0, 2.0) ]) == ???\n",
    "```"
   ]
  },
  {
   "cell_type": "markdown",
   "metadata": {},
   "source": [
    "Do two segments that touch at their endpoints overlap or not? Mathematicians usually say “yes”, but engineers usually say “no”. The best answer is “whatever is most useful in the rest of our program”, but again, any actual implementation of `range_overlap` is going to do *something*, and whatever it is ought to be consistent with what it does when there’s no overlap at all.\n",
    "\n",
    "Since we’re planning to use the range this function returns as the X axis in a time series chart, we decide that:\n",
    "\n",
    " 1. every overlap has to have non-zero width, and\n",
    " 2. we will return the special value None when there’s no overlap.\n",
    " \n",
    "`None` is built into Python, and means “nothing here”. (Other languages often call the equivalent value `null` or `nil`). With that decision made, we can finish writing our last two tests:"
   ]
  },
  {
   "cell_type": "markdown",
   "metadata": {},
   "source": [
    "```python\n",
    "assert range_overlap([ (0.0, 1.0), (5.0, 6.0) ]) == None\n",
    "assert range_overlap([ (0.0, 1.0), (1.0, 2.0) ]) == None\n",
    "```"
   ]
  },
  {
   "cell_type": "markdown",
   "metadata": {},
   "source": [
    "```python\n",
    "---------------------------------------------------------------------------\n",
    "NameError                                 Traceback (most recent call last)\n",
    "<ipython-input-13-42de7ddfb428> in <module>()\n",
    "----> 1 assert range_overlap([ (0.0, 1.0), (5.0, 6.0) ]) == None\n",
    "      2 assert range_overlap([ (0.0, 1.0), (1.0, 2.0) ]) == None\n",
    "\n",
    "NameError: name 'range_overlap' is not defined\n",
    "```"
   ]
  },
  {
   "cell_type": "markdown",
   "metadata": {},
   "source": [
    "Again, we get an error because we haven’t written our function, but we’re now ready to do so:\n"
   ]
  },
  {
   "cell_type": "code",
   "execution_count": 14,
   "metadata": {},
   "outputs": [],
   "source": [
    "def range_overlap(ranges):\n",
    "    '''Return common overlap among a set of [low, high] ranges.'''\n",
    "    lowest = 0.0\n",
    "    highest = 1.0\n",
    "    for (low, high) in ranges:\n",
    "        lowest = max(lowest, low)\n",
    "        highest = min(highest, high)\n",
    "    return (lowest, highest)"
   ]
  },
  {
   "cell_type": "markdown",
   "metadata": {},
   "source": [
    "(Take a moment to think about why we use `max` to raise `lowest` and `min` to lower `highest`). We’d now like to re-run our tests, but they’re scattered across three different cells. To make running them easier, let’s put them all in a function:"
   ]
  },
  {
   "cell_type": "code",
   "execution_count": 15,
   "metadata": {},
   "outputs": [],
   "source": [
    "def test_range_overlap():\n",
    "    assert range_overlap([ (0.0, 1.0), (5.0, 6.0) ]) == None\n",
    "    assert range_overlap([ (0.0, 1.0), (1.0, 2.0) ]) == None\n",
    "    assert range_overlap([ (0.0, 1.0) ]) == (0.0, 1.0)\n",
    "    assert range_overlap([ (2.0, 3.0), (2.0, 4.0) ]) == (2.0, 3.0)\n",
    "    assert range_overlap([ (0.0, 1.0), (0.0, 2.0), (-1.0, 1.0) ]) == (0.0, 1.0)"
   ]
  },
  {
   "cell_type": "markdown",
   "metadata": {},
   "source": [
    "We can now test `range_overlap` with a single function call:"
   ]
  },
  {
   "cell_type": "markdown",
   "metadata": {},
   "source": [
    "```python \n",
    "test_range_overlap() \n",
    "```"
   ]
  },
  {
   "cell_type": "markdown",
   "metadata": {},
   "source": [
    "```python\n",
    "---------------------------------------------------------------------------\n",
    "AssertionError                            Traceback (most recent call last)\n",
    "<ipython-input-16-80290759369d> in <module>()\n",
    "----> 1 test_range_overlap()\n",
    "\n",
    "<ipython-input-15-d61f343ad67a> in test_range_overlap()\n",
    "      1 def test_range_overlap():\n",
    "----> 2     assert range_overlap([ (0.0, 1.0), (5.0, 6.0) ]) == None\n",
    "      3     assert range_overlap([ (0.0, 1.0), (1.0, 2.0) ]) == None\n",
    "      4     assert range_overlap([ (0.0, 1.0) ]) == (0.0, 1.0)\n",
    "      5     assert range_overlap([ (2.0, 3.0), (2.0, 4.0) ]) == (2.0, 3.0)\n",
    "\n",
    "AssertionError: \n",
    "```"
   ]
  },
  {
   "cell_type": "markdown",
   "metadata": {},
   "source": [
    "The first test that was supposed to produce `None` fails, so we know something is wrong with our function. We don’t know whether the other tests passed or failed because Python halted the program as soon as it spotted the first error. Still, some information is better than none, and if we trace the behavior of the function with that input, we realize that we’re initializing `lowest` and `highest` to 0.0 and 1.0 respectively, regardless of the input values. This violates another important rule of programming: always initialize from data."
   ]
  },
  {
   "cell_type": "markdown",
   "metadata": {
    "tags": [
     "challenge"
    ]
   },
   "source": [
    "Fix `range_overlap`. Re-run `test_range_overlap` after each change you make."
   ]
  },
  {
   "cell_type": "code",
   "execution_count": 17,
   "metadata": {
    "tags": [
     "solution"
    ]
   },
   "outputs": [],
   "source": [
    "import numpy\n",
    "\n",
    "def range_overlap(ranges):\n",
    "    '''Return common overlap among a set of [low, high] ranges.'''\n",
    "    if not ranges:\n",
    "        # ranges is None or an empty list\n",
    "        return None\n",
    "    lowest, highest = ranges[0]\n",
    "    for (low, high) in ranges[1:]:\n",
    "        lowest = max(lowest, low)\n",
    "        highest = min(highest, high)\n",
    "    if lowest >= highest:  # no overlap\n",
    "        return None\n",
    "    else:\n",
    "        return (lowest, highest)"
   ]
  },
  {
   "cell_type": "markdown",
   "metadata": {},
   "source": [
    "## Key points\n",
    "\n",
    " - Program defensively, i.e., assume that errors are going to arise, and write code to detect them when they do.\n",
    "\n",
    " - Put assertions in programs to check their state as they run, and to help readers understand how those programs are supposed to work.\n",
    "\n",
    " - Use preconditions to check that the inputs to a function are safe to use.\n",
    "\n",
    " - Use postconditions to check that the output from a function is safe to use.\n",
    "\n",
    " - Write tests before writing code in order to help determine exactly what that code is supposed to do."
   ]
  },
  {
   "cell_type": "code",
   "execution_count": null,
   "metadata": {},
   "outputs": [],
   "source": []
  }
 ],
 "metadata": {
  "celltoolbar": "Tags",
  "kernelspec": {
   "display_name": "Python 3",
   "language": "python",
   "name": "python3"
  },
  "language_info": {
   "codemirror_mode": {
    "name": "ipython",
    "version": 3
   },
   "file_extension": ".py",
   "mimetype": "text/x-python",
   "name": "python",
   "nbconvert_exporter": "python",
   "pygments_lexer": "ipython3",
   "version": "3.6.3"
  }
 },
 "nbformat": 4,
 "nbformat_minor": 2
}
