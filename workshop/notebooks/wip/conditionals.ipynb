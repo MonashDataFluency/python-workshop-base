{
 "cells": [
  {
   "cell_type": "markdown",
   "metadata": {
    "slideshow": {
     "slide_type": "slide"
    }
   },
   "source": [
    "## Conditionals"
   ]
  },
  {
   "cell_type": "code",
   "execution_count": 65,
   "metadata": {},
   "outputs": [
    {
     "data": {
      "text/plain": [
       "True"
      ]
     },
     "execution_count": 65,
     "metadata": {},
     "output_type": "execute_result"
    }
   ],
   "source": [
    "a = 10\n",
    "b = 0\n",
    "a > 1"
   ]
  },
  {
   "cell_type": "code",
   "execution_count": 66,
   "metadata": {
    "slideshow": {
     "slide_type": "subslide"
    }
   },
   "outputs": [
    {
     "name": "stdout",
     "output_type": "stream",
     "text": [
      "a is greater than one\n"
     ]
    }
   ],
   "source": [
    "if a > 1:\n",
    "    print(\"a is greater than one\")"
   ]
  },
  {
   "cell_type": "code",
   "execution_count": 67,
   "metadata": {
    "slideshow": {
     "slide_type": "subslide"
    }
   },
   "outputs": [
    {
     "name": "stdout",
     "output_type": "stream",
     "text": [
      "Bird is the word.\n",
      "The word is not girt.\n"
     ]
    }
   ],
   "source": [
    "word = 'Bird'\n",
    "\n",
    "# Note: Double equals for a conditional vs single equals for assignment !\n",
    "if word == 'Bird':\n",
    "    print('Bird is the word.')\n",
    "    \n",
    "if word != 'Girt':\n",
    "    print('The word is not girt.')"
   ]
  },
  {
   "cell_type": "code",
   "execution_count": 68,
   "metadata": {
    "slideshow": {
     "slide_type": "subslide"
    }
   },
   "outputs": [
    {
     "name": "stdout",
     "output_type": "stream",
     "text": [
      "'ird' is in Bird.\n",
      "'i' is in letters.\n"
     ]
    }
   ],
   "source": [
    "if 'ird' in word:\n",
    "    print(\"'ird' is in Bird.\")\n",
    "    \n",
    "letters = ['B', 'i', 'r', 'd']\n",
    "if 'i' in letters:\n",
    "    print(\"'i' is in letters.\")"
   ]
  },
  {
   "cell_type": "markdown",
   "metadata": {
    "slideshow": {
     "slide_type": "subslide"
    }
   },
   "source": [
    "*Protip*: Long lines can be split across two or more using a backslash ('\\')\n",
    "\n",
    "This can make your code more readable.\n",
    "\n",
    "There should be nothing after the backslash, including whitespace.\n",
    "\n",
    "Try to keep lines shorter than 78 characters for a PEP-8 style bonus."
   ]
  },
  {
   "cell_type": "code",
   "execution_count": 69,
   "metadata": {
    "slideshow": {
     "slide_type": "subslide"
    }
   },
   "outputs": [
    {
     "name": "stdout",
     "output_type": "stream",
     "text": [
      "There is no 'I' in team (or TEAM).\n"
     ]
    }
   ],
   "source": [
    "if 'I' not in 'team' or \\\n",
    "   'I' not in 'TEAM':\n",
    "    print(\"There is no 'I' in team (or TEAM).\")"
   ]
  },
  {
   "cell_type": "code",
   "execution_count": 70,
   "metadata": {
    "slideshow": {
     "slide_type": "subslide"
    }
   },
   "outputs": [
    {
     "data": {
      "text/plain": [
       "True"
      ]
     },
     "execution_count": 70,
     "metadata": {},
     "output_type": "execute_result"
    }
   ],
   "source": [
    "# Boolean logic\n",
    "# True and True => True\n",
    "a > 1 and b <= 0"
   ]
  },
  {
   "cell_type": "code",
   "execution_count": 71,
   "metadata": {},
   "outputs": [
    {
     "data": {
      "text/plain": [
       "True"
      ]
     },
     "execution_count": 71,
     "metadata": {},
     "output_type": "execute_result"
    }
   ],
   "source": [
    "# True or False => True\n",
    "a > 1 or b > 1"
   ]
  },
  {
   "cell_type": "code",
   "execution_count": 72,
   "metadata": {
    "slideshow": {
     "slide_type": "subslide"
    }
   },
   "outputs": [
    {
     "name": "stdout",
     "output_type": "stream",
     "text": [
      "a is less than fifty\n"
     ]
    }
   ],
   "source": [
    "if a > 100:\n",
    "    print(\"a is greater than one hundred\")\n",
    "elif a > 50:\n",
    "    print(\"a is greater than fifty but less than one hundred\")\n",
    "else:\n",
    "    print(\"a is less than fifty\")\n",
    "    \n",
    "# For better or worse, there is no case/switch statement in Python - you just use if/elif/elif/else"
   ]
  },
  {
   "cell_type": "code",
   "execution_count": 73,
   "metadata": {
    "slideshow": {
     "slide_type": "subslide"
    }
   },
   "outputs": [
    {
     "name": "stdout",
     "output_type": "stream",
     "text": [
      "A non-zero int is truthy\n",
      "The int 0 is 'falsey' ... not False => True !\n",
      "A non-empty string, even whitespace, is 'truthy\n"
     ]
    }
   ],
   "source": [
    "# Truthyness\n",
    "if a:\n",
    "    print(\"A non-zero int is truthy\")\n",
    "\n",
    "if not (a - 10):\n",
    "    print(\"The int 0 is 'falsey' ... not False => True !\")\n",
    "\n",
    "if '' or [] or () or dict():\n",
    "    print(\"We will never see this since an empty string, list, tuple and dict are all 'falsey'\")\n",
    "    \n",
    "if \"    \":\n",
    "    print(\"A non-empty string, even whitespace, is 'truthy\")"
   ]
  }
 ],
 "metadata": {
  "celltoolbar": "Tags",
  "kernelspec": {
   "display_name": "Python 3",
   "language": "python",
   "name": "python3"
  },
  "language_info": {
   "codemirror_mode": {
    "name": "ipython",
    "version": 3
   },
   "file_extension": ".py",
   "mimetype": "text/x-python",
   "name": "python",
   "nbconvert_exporter": "python",
   "pygments_lexer": "ipython3",
   "version": "3.6.3"
  }
 },
 "nbformat": 4,
 "nbformat_minor": 2
}
