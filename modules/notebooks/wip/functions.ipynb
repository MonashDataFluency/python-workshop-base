{
 "cells": [
  {
   "cell_type": "markdown",
   "metadata": {
    "slideshow": {
     "slide_type": "slide"
    }
   },
   "source": [
    "## Functions"
   ]
  },
  {
   "cell_type": "markdown",
   "metadata": {},
   "source": [
    "Functions wrap up reusable pieces of code - the *DRY* principle\n",
    "\n",
    "Significant whitespace: the body of the function is indicated by indenting by 4 spaces\n",
    "\n",
    "*(We also use these indented blocks for if/else, for and while statements .. later !)*\n",
    "\n",
    "`return` statements immediately return a value (or `None` if no value is given)\n",
    "\n",
    "Any code in the function after the `return` statement does not get executed."
   ]
  },
  {
   "cell_type": "code",
   "execution_count": 60,
   "metadata": {
    "slideshow": {
     "slide_type": "subslide"
    }
   },
   "outputs": [
    {
     "name": "stdout",
     "output_type": "stream",
     "text": [
      "256 python-esque\n"
     ]
    }
   ],
   "source": [
    "def square(x):\n",
    "    return x**2\n",
    "\n",
    "def hyphenate(a, b):\n",
    "    return a + '-' + b\n",
    "    print(\"We will never get here\")\n",
    "\n",
    "print(square(16), hyphenate('python', 'esque'))"
   ]
  },
  {
   "cell_type": "markdown",
   "metadata": {
    "slideshow": {
     "slide_type": "subslide"
    }
   },
   "source": [
    "### Indentation and whitespace\n",
    "\n",
    "* Python uses spaces at the start of a line to indicate a 'block' of code.\n",
    "* A new block of code should be indented by four spaces.\n",
    "\n",
    "* For a function, all the indented code is part of the function.\n",
    "* (This also applies to loops like `for` and `while` and conditionals like `if`)\n",
    "\n",
    "(Indenting/dedenting by four spaces in Python is the equivalent to opening **{** and closing **}** curly brackets in languages like Java, Javascript, C, C++, C# etc)\n",
    "\n",
    "(Python actually allows you to indent by any number of spaces as long as you are consistent throughout the file. The official Python style guide prefers four spaces https://www.python.org/dev/peps/pep-0008/, and most Python code you'll find follows that convention, so you should too. You can even use tab characters, but please, please, pretty please don't do that)."
   ]
  },
  {
   "cell_type": "code",
   "execution_count": 61,
   "metadata": {
    "slideshow": {
     "slide_type": "slide"
    }
   },
   "outputs": [
    {
     "name": "stdout",
     "output_type": "stream",
     "text": [
      "4 6 9\n"
     ]
    }
   ],
   "source": [
    "# Functions can return multiple values (just return a tuple and unpack it)\n",
    "def lengths(a, b, c):\n",
    "    return len(a), len(b), len(c)\n",
    "\n",
    "x, y, z = lengths(\"long\", \"longer\", \"LONGEREST\")\n",
    "print(x, y, z)"
   ]
  },
  {
   "cell_type": "code",
   "execution_count": 62,
   "metadata": {
    "slideshow": {
     "slide_type": "slide"
    },
    "tags": [
     "biosummer"
    ]
   },
   "outputs": [
    {
     "data": {
      "text/plain": [
       "['MIL', 'GROGDRIN', 'PINEAPPLE']"
      ]
     },
     "execution_count": 62,
     "metadata": {},
     "output_type": "execute_result"
    }
   ],
   "source": [
    "def split_at(seq, residue='K'):\n",
    "    \"\"\"\n",
    "    Takes a protein sequence (as a string) and splits it at each K residue,\n",
    "    or the residue specified in the `residue` keyword argument. Split point\n",
    "    residue is discarded.\n",
    "    \n",
    "    Returns a list of strings.\n",
    "    \"\"\"\n",
    "    return seq.split(residue)\n",
    "\n",
    "split_at('MILKGROGDRINKPINEAPPLE')"
   ]
  },
  {
   "cell_type": "code",
   "execution_count": 63,
   "metadata": {
    "slideshow": {
     "slide_type": "slide"
    }
   },
   "outputs": [],
   "source": [
    "# Functions can have an indeterminate number of arguments and keyword arguments using * and **\n",
    "import math\n",
    "\n",
    "def vector_magnitude(x, y, *args, **kwargs):\n",
    "    \n",
    "    # print(args)    # args is a tuple\n",
    "    # print(kwargs)  # kwargs is a dictionary\n",
    "    \n",
    "    scale = kwargs.get('scale', 1)\n",
    "    \n",
    "    vector = [x,y] + list(args)\n",
    "    return math.sqrt(sum(v**2 for v in vector)) * scale"
   ]
  },
  {
   "cell_type": "code",
   "execution_count": 64,
   "metadata": {},
   "outputs": [
    {
     "name": "stdout",
     "output_type": "stream",
     "text": [
      "9.219544457292887\n"
     ]
    }
   ],
   "source": [
    "print(vector_magnitude(1, 2, 4, 8, m=2))"
   ]
  }
 ],
 "metadata": {
  "celltoolbar": "Tags",
  "kernelspec": {
   "display_name": "Python 3",
   "language": "python",
   "name": "python3"
  },
  "language_info": {
   "codemirror_mode": {
    "name": "ipython",
    "version": 3
   },
   "file_extension": ".py",
   "mimetype": "text/x-python",
   "name": "python",
   "nbconvert_exporter": "python",
   "pygments_lexer": "ipython3",
   "version": "3.6.3"
  }
 },
 "nbformat": 4,
 "nbformat_minor": 2
}
