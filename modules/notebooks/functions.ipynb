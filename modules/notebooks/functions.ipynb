{
 "cells": [
  {
   "cell_type": "markdown",
   "metadata": {},
   "source": [
    "# Reusable and modular code with functions"
   ]
  },
  {
   "cell_type": "markdown",
   "metadata": {
    "tags": [
     "solution"
    ]
   },
   "source": [
    "## Instructor notes\n",
    "\n",
    "*Estimated teaching time:* 30 min\n",
    "\n",
    "*Estimated challenge time:* 0 min\n",
    "\n",
    "*Key questions:*\n",
    "\n",
    "\n",
    "    \n",
    "*Learning objectives:*\n",
    "\n",
    "  - \"Build reusable code in Python.\"\n",
    "  - \"Write functions using conditional statements (if, then, else)\"\n",
    "\n",
    "---"
   ]
  },
  {
   "cell_type": "markdown",
   "metadata": {},
   "source": [
    "## Functions\n",
    "\n",
    "Functions wrap up reusable pieces of code - they help you apply the _Do Not Repeat Yourself_ (DRY) principle."
   ]
  },
  {
   "cell_type": "code",
   "execution_count": 1,
   "metadata": {
    "tags": [
     "solution"
    ]
   },
   "outputs": [
    {
     "data": {
      "text/plain": [
       "16"
      ]
     },
     "execution_count": 1,
     "metadata": {},
     "output_type": "execute_result"
    }
   ],
   "source": [
    "def square(x):\n",
    "    # The body of the function is indicated by indenting by 4 spaces.\n",
    "    return x**2\n",
    "\n",
    "square(4)"
   ]
  },
  {
   "cell_type": "code",
   "execution_count": 2,
   "metadata": {
    "tags": [
     "solution"
    ]
   },
   "outputs": [
    {
     "data": {
      "text/plain": [
       "'python-esque'"
      ]
     },
     "execution_count": 2,
     "metadata": {},
     "output_type": "execute_result"
    }
   ],
   "source": [
    "def hyphenate(a, b):\n",
    "    # return statements immediately return a value (or None if no value is given)\n",
    "    return a + '-' + b\n",
    "    # Any code in the function after the return statement does not get executed.\n",
    "    print(\"We will never get here\")\n",
    "\n",
    "hyphenate('python', 'esque')"
   ]
  },
  {
   "cell_type": "markdown",
   "metadata": {},
   "source": [
    "Suppose that separating large data files into individual yearly files is a task that we frequently have to perform. We could write a `for` loop like the one above every time we needed to do it but that would be time consuming and error prone. A more elegant solution would be to create a reusable tool that performs this task with minimum input from the user. To do this, we are going to turn the code we’ve already written into a function.\n",
    "\n",
    "Functions are reusable, self-contained pieces of code that are called with a single command. They can be designed to accept arguments as input and return values, but they don’t need to do either. Variables declared inside functions only exist while the function is running and if a variable within the function (a local variable) has the same name as a variable somewhere else in the code, the local variable hides but doesn’t overwrite the other.\n",
    "\n",
    "Every method used in Python (for example, `print`) is a function, and the libraries we import (say, `pandas`) are a collection of functions. We will only use functions that are housed within the same code that uses them, but it’s also easy to write functions that can be used by different programs."
   ]
  },
  {
   "cell_type": "markdown",
   "metadata": {},
   "source": [
    "Functions are declared following this general structure:"
   ]
  },
  {
   "cell_type": "markdown",
   "metadata": {},
   "source": [
    "```python\n",
    "def this_is_the_function_name(input_argument1, input_argument2):\n",
    "\n",
    "    # The body of the function is indented\n",
    "    # This function prints the two arguments to screen\n",
    "    print('The function arguments are:', input_argument1, input_argument2, '(this is done inside the function!)')\n",
    "\n",
    "    # And returns their product\n",
    "    return input_argument1 * input_argument2\n",
    "```\n",
    "\n",
    "The function declaration starts with the word def, followed by the function name and any arguments in parenthesis, and ends in a colon. The body of the function is indented just like loops are. If the function returns something when it is called, it includes a return statement at the end.\n",
    "\n",
    "\n",
    "Let's rewrite this function with shorter (but still informative) names so we don't need to type as much:"
   ]
  },
  {
   "cell_type": "code",
   "execution_count": 3,
   "metadata": {},
   "outputs": [],
   "source": [
    "def product(a, b):\n",
    "    print('The function arguments are:', a, b, '(this is done inside the function!)')\n",
    "\n",
    "    return a * b"
   ]
  },
  {
   "cell_type": "markdown",
   "metadata": {},
   "source": [
    "This is how we call the function:"
   ]
  },
  {
   "cell_type": "code",
   "execution_count": 4,
   "metadata": {},
   "outputs": [
    {
     "name": "stdout",
     "output_type": "stream",
     "text": [
      "The function arguments are: 2 5 (this is done inside the function!)\n"
     ]
    }
   ],
   "source": [
    "product_of_inputs = product(2, 5)"
   ]
  },
  {
   "cell_type": "code",
   "execution_count": 5,
   "metadata": {},
   "outputs": [
    {
     "name": "stdout",
     "output_type": "stream",
     "text": [
      "Their product is: 10 (this is done outside the function!)\n"
     ]
    }
   ],
   "source": [
    "print('Their product is:', product_of_inputs, '(this is done outside the function!)')"
   ]
  },
  {
   "cell_type": "markdown",
   "metadata": {
    "tags": [
     "challenge"
    ]
   },
   "source": [
    "## Challenge - Functions\n",
    "\n",
    "1. Change the values of the input arguments in the function and check its output.\n",
    "\n",
    "2. Try calling the function by giving it the wrong number of arguments (not 2) or not assigning the function call to a variable (no `product_of_inputs =`).\n",
    "\n",
    "### Bonus challenges\n",
    "\n",
    "3. Declare a variable inside the function and test to see where it exists (Hint: can you print it from outside the function?).\n",
    "\n",
    "4. Explore what happens when a variable both inside and outside the function have the same name. What happens to the global variable when you change the value of the local variable?"
   ]
  },
  {
   "cell_type": "markdown",
   "metadata": {
    "tags": [
     "solution"
    ]
   },
   "source": [
    "## Solutions - Functions"
   ]
  },
  {
   "cell_type": "code",
   "execution_count": 6,
   "metadata": {
    "tags": [
     "solution"
    ]
   },
   "outputs": [
    {
     "name": "stdout",
     "output_type": "stream",
     "text": [
      "The function arguments are: 2 6 (this is done inside the function!)\n",
      "12\n"
     ]
    }
   ],
   "source": [
    "# Challenge part 1\n",
    "product_of_inputs = product(2, 6)\n",
    "print(product_of_inputs)"
   ]
  },
  {
   "cell_type": "markdown",
   "metadata": {
    "tags": [
     "solution"
    ]
   },
   "source": [
    "Challenge part 2:\n",
    "\n",
    "```python\n",
    "product(2, 6, \"nope\")\n",
    "```"
   ]
  },
  {
   "cell_type": "markdown",
   "metadata": {
    "tags": [
     "solution"
    ]
   },
   "source": [
    "```python\n",
    "---------------------------------------------------------------------------\n",
    "TypeError                                 Traceback (most recent call last)\n",
    "<ipython-input-12-fe9d9cd35fe2> in <module>()\n",
    "      1 # 2\n",
    "----> 2 this_is_the_function_name(2, 6, \"nope\")\n",
    "\n",
    "TypeError: this_is_the_function_name() takes 2 positional arguments but 3 were given\n",
    "```"
   ]
  },
  {
   "cell_type": "markdown",
   "metadata": {
    "tags": [
     "solution"
    ]
   },
   "source": [
    "Challenge part 3:\n",
    "\n",
    "```python\n",
    "def product(a, b):\n",
    "    \n",
    "    inside_fun = \"existential crisis\"\n",
    "    print('The function arguments are:', a, b, '(this is done inside the function!)')\n",
    "    \n",
    "    return a * b\n",
    "\n",
    "product(2, 5)\n",
    "print(inside_fun)\n",
    "```"
   ]
  },
  {
   "cell_type": "markdown",
   "metadata": {
    "tags": [
     "solution"
    ]
   },
   "source": [
    "```python\n",
    "The function arguments are: 2 5 (this is done inside the function!)\n",
    "---------------------------------------------------------------------------\n",
    "NameError                                 Traceback (most recent call last)\n",
    "<ipython-input-13-e7a0563b00a6> in <module>()\n",
    "     12 \n",
    "     13 this_is_the_function_name(2, 5)\n",
    "---> 14 print(inside_fun)\n",
    "\n",
    "NameError: name 'inside_fun' is not defined\n",
    "```"
   ]
  },
  {
   "cell_type": "code",
   "execution_count": 7,
   "metadata": {
    "tags": [
     "solution"
    ]
   },
   "outputs": [
    {
     "name": "stdout",
     "output_type": "stream",
     "text": [
      "The function arguments are: 2 5 (this is done inside the function!)\n",
      "unchanged\n"
     ]
    }
   ],
   "source": [
    "# Challenge part 4\n",
    "outside = \"unchanged\"\n",
    "def product(a, b):\n",
    "    \n",
    "    outside = \"I'm being manipulated\"\n",
    "    print('The function arguments are:', a, b, '(this is done inside the function!)')\n",
    "\n",
    "    return a * b\n",
    "\n",
    "product(2, 5)\n",
    "print(outside)"
   ]
  },
  {
   "cell_type": "markdown",
   "metadata": {},
   "source": [
    "Say we had some code for taking our `survey.csv` data and splitting it out into one file for each year:\n",
    "\n",
    "```python\n",
    "# First let's make sure we've read the survey data into a pandas DataFrame.\n",
    "import pandas as pd\n",
    "all_data = pd.read_csv(\"surveys.csv\")\n",
    "\n",
    "this_year = 2002\n",
    "# Select data for just that year\n",
    "surveys_year = all_data[all_data.year == this_year]\n",
    "\n",
    "# Write the new DataFrame to a csv file\n",
    "filename = 'surveys' + str(this_year) + '.csv'\n",
    "surveys_year.to_csv(filename)\n",
    "```\n",
    "\n",
    "There are many different \"chunks\" of this code that we can turn into functions, and we can even create functions that call other functions inside them. Let’s first write a function that separates data for just one year and saves that data to a file:"
   ]
  },
  {
   "cell_type": "code",
   "execution_count": 8,
   "metadata": {},
   "outputs": [],
   "source": [
    "def year_to_csv(year, all_data):\n",
    "    \"\"\"\n",
    "    Writes a csv file for data from a given year.\n",
    "\n",
    "    year --- year for which data is extracted\n",
    "    all_data --- DataFrame with multi-year data\n",
    "    \"\"\"\n",
    "\n",
    "    # Select data for the year\n",
    "    surveys_year = all_data[all_data.year == year]\n",
    "\n",
    "    # Write the new DataFrame to a csv file\n",
    "    filename = 'function_surveys' + str(year) + '.csv'\n",
    "    surveys_year.to_csv(filename)"
   ]
  },
  {
   "cell_type": "markdown",
   "metadata": {},
   "source": [
    "The text between the two sets of triple double quotes is called a _docstring_ and contains the documentation for the function. It does nothing when the function is running and is therefore not necessary, but it is good practice to include docstrings as a reminder of what the code does. Docstrings in functions also become part of their ‘official’ documentation:"
   ]
  },
  {
   "cell_type": "code",
   "execution_count": 9,
   "metadata": {},
   "outputs": [],
   "source": [
    "?year_to_csv"
   ]
  },
  {
   "cell_type": "markdown",
   "metadata": {},
   "source": [
    "**Signature:** `year_to_csv(year, all_data)`\n",
    "\n",
    "***Docstring:***\n",
    "```\n",
    "Writes a csv file for data from a given year.\n",
    "\n",
    "year --- year for which data is extracted\n",
    "all_data --- DataFrame with multi-year data\n",
    "```\n",
    "\n",
    "***File:***      `~/devel/python-workshop-base/workshops/docs/modules/notebooks/<ipython-input-16-978149c5937c>`\n",
    "\n",
    "***Type:***      `function`"
   ]
  },
  {
   "cell_type": "code",
   "execution_count": 10,
   "metadata": {},
   "outputs": [],
   "source": [
    "# Read the survey data into a pandas DataFrame.\n",
    "# (if you are jumping in to just this lesson and don't yet have the surveys.csv file yet, \n",
    "#  see the \"Data analysis in Python with Pandas\" `working_with_data` module)\n",
    "import pandas as pd\n",
    "surveys_df = pd.read_csv(\"surveys.csv\")\n",
    "\n",
    "year_to_csv(2002, surveys_df)"
   ]
  },
  {
   "cell_type": "markdown",
   "metadata": {
    "tags": [
     "protip",
     "aside"
    ]
   },
   "source": [
    "### Aside - listing files and the `os` module\n",
    "\n",
    "Google Collaboratory and Juypter Notebooks have a built-in file browser, however, you can list the files and directories in the current directory (\"folder\") with Python code like:\n",
    "\n",
    "```python\n",
    "import os\n",
    "\n",
    "print(os.listdir())\n",
    "```\n",
    "\n",
    "You'll see a Python list, a bit like:\n",
    "\n",
    "```\n",
    "['surveys.csv','function_surveys2002.csv']\n",
    "```\n",
    "\n",
    "(you may have additional files listed here, generated in previous lessons)\n",
    "\n",
    "The [os](https://docs.python.org/3/library/os.html) module contains, among other things, a bunch of useful functions for working with the filesystem and file paths.\n",
    "\n",
    "Two other useful examples (hint - these might help in a upcoming challenge):\n",
    "\n",
    "```python\n",
    "# This returns True if the file or directory specified exists\n",
    "os.path.exists('surveys.csv')\n",
    "```\n",
    "\n",
    "```python\n",
    "# This creates empty (nested) directories based on a path (eg in a 'path' each directory is separated by slashes)\n",
    "os.makedirs('data/csvs/')\n",
    "```\n",
    "\n",
    "If a directory already exists, `os.makedirs` fails and produces an error message (in Python terminology we might say it 'raises an exception' ).\n",
    "\n",
    "We can avoid this by using `os.path.exists` and `os.makedirs` together like:\n",
    "```python\n",
    "if not os.path.exists('data/csvs/'):\n",
    "    os.makedirs('data/csvs/')\n",
    "```"
   ]
  },
  {
   "cell_type": "markdown",
   "metadata": {},
   "source": [
    "What we really want to do, though, is create files for multiple years without having to request them one by one. Let’s write another function that uses a `for` loop over a sequence of years and repeatedly calls the function we just wrote, `year_to_csv`:"
   ]
  },
  {
   "cell_type": "code",
   "execution_count": 11,
   "metadata": {},
   "outputs": [],
   "source": [
    "def create_csvs_by_year(start_year, end_year, all_data):\n",
    "    \"\"\"\n",
    "    Writes separate CSV files for each year of data.\n",
    "\n",
    "    start_year --- the first year of data we want\n",
    "    end_year --- the last year of data we want\n",
    "    all_data --- DataFrame with multi-year data\n",
    "    \"\"\"\n",
    "\n",
    "    # \"end_year\" is the last year of data we want to pull, so we loop to end_year+1\n",
    "    for year in range(start_year, end_year+1):\n",
    "        year_to_csv(year, all_data)"
   ]
  },
  {
   "cell_type": "markdown",
   "metadata": {},
   "source": [
    "Because people will naturally expect that the end year for the files is the last year with data, the `for` loop inside the function ends at `end_year + 1`. By writing the entire loop into a function, we’ve made a reusable tool for whenever we need to break a large data file into yearly files. Because we can specify the first and last year for which we want files, we can even use this function to create files for a subset of the years available. This is how we call this function:"
   ]
  },
  {
   "cell_type": "code",
   "execution_count": 12,
   "metadata": {},
   "outputs": [],
   "source": [
    "# Create CSV files, one for each year in the given range\n",
    "create_csvs_by_year(1977, 2002, surveys_df)"
   ]
  },
  {
   "cell_type": "markdown",
   "metadata": {
    "tags": [
     "challenge"
    ]
   },
   "source": [
    "## Challenge - More Functions\n",
    "\n",
    "1. Add two arguments to the functions we wrote that take the path of the directory where the files will be written and the root of the file name. eg, something like `def year_to_csv_at_path(year, all_data, output_path, filename_prefix):`. Call your new function to create a new set of files with a different name in a different directory. **Hint:** You could manually create the target directory before calling the function using the Collaboratory / Jupyter file browser, *or* for bonus points you could do it in Python inside the function using the `os` module.\n",
    "\n",
    "2. How could you use the function `create_csvs_by_year` to create a CSV file for only one year? (Hint: think about the syntax for range)\n",
    "\n",
    "3. Make the functions return a list of the files they have written. There are many ways you can do this (and you should try them all!): either of the functions can print to screen, either can use a return statement to give back numbers or strings to their function call, or you can use some combination of the two. You could also try using the `os` library to list the contents of directories."
   ]
  },
  {
   "cell_type": "markdown",
   "metadata": {
    "tags": [
     "solution"
    ]
   },
   "source": [
    "## Solutions - More Functions"
   ]
  },
  {
   "cell_type": "code",
   "execution_count": 13,
   "metadata": {
    "tags": [
     "solution"
    ]
   },
   "outputs": [],
   "source": [
    "# Solution - part 1\n",
    "import os\n",
    "\n",
    "def year_to_csv_at_path(year, all_data, output_path, filename_prefix):\n",
    "    \"\"\"\n",
    "    Writes a csv file for data from a given year.\n",
    "\n",
    "    year --- year for which data is extracted\n",
    "    all_data --- DataFrame with multi-year data\n",
    "    output_path --- The output path for the generated file\n",
    "    filename_prefix --- Output filename will be of the form \"{filename_prefix}{year}.csv\"\n",
    "    \"\"\"\n",
    "\n",
    "    # Select data for the year\n",
    "    surveys_year = all_data[all_data.year == year]\n",
    "\n",
    "    # Create directories if required\n",
    "    if not os.path.exists(output_path):\n",
    "        os.makedirs(output_path)\n",
    "    \n",
    "    # Write the new DataFrame to a csv file\n",
    "    filename = output_path + '/' + filename_prefix + str(year) + '.csv'\n",
    "    surveys_year.to_csv(filename)\n",
    "\n",
    "def create_csvs_by_year_at_path(start_year, end_year, all_data, output_path, filename_prefix):\n",
    "    \"\"\"\n",
    "    Writes separate CSV files for each year of data.\n",
    "\n",
    "    start_year --- the first year of data we want\n",
    "    end_year --- the last year of data we want\n",
    "    all_data --- DataFrame with multi-year data\n",
    "    output_path --- The output path for the generated file\n",
    "    filename_prefix --- Output filename will be of the form \"{filename_prefix}{year}.csv\"\n",
    "    \"\"\"\n",
    "\n",
    "    # \"end_year\" is the last year of data we want to pull, so we loop to end_year+1\n",
    "    for year in range(start_year, end_year+1):\n",
    "        year_to_csv_at_path(year, all_data, output_path, filename_prefix)"
   ]
  },
  {
   "cell_type": "code",
   "execution_count": 14,
   "metadata": {
    "tags": [
     "solution"
    ]
   },
   "outputs": [],
   "source": [
    "# Solution - part 2\n",
    "create_csvs_by_year(2002, 2002, surveys_df)"
   ]
  },
  {
   "cell_type": "code",
   "execution_count": 15,
   "metadata": {
    "tags": [
     "solution"
    ]
   },
   "outputs": [
    {
     "name": "stdout",
     "output_type": "stream",
     "text": [
      "['function_surveys2000.csv', 'function_surveys2001.csv', 'function_surveys2002.csv']\n"
     ]
    }
   ],
   "source": [
    "# Solution - part 3\n",
    "\n",
    "def year_to_csv_return_filenames(year, all_data):\n",
    "    # Select data for the year\n",
    "    surveys_year = all_data[all_data.year == year]\n",
    "\n",
    "    # Write the new DataFrame to a csv file\n",
    "    filename = 'function_surveys' + str(year) + '.csv'\n",
    "    surveys_year.to_csv(filename)\n",
    "    \n",
    "    # We could just print the filename. We can see the result, but won't capture the value\n",
    "    # print(filename)\n",
    "    \n",
    "    # It's often more useful to return data rather than print it, so we can do something with it\n",
    "    return filename\n",
    "\n",
    "def create_csvs_by_year_return_filenames(start_year, end_year, all_data):\n",
    "    \n",
    "    generated_files = []\n",
    "    for year in range(start_year, end_year+1):\n",
    "        fn = year_to_csv_return_filenames(year, all_data)\n",
    "        generated_files.append(fn)\n",
    "        \n",
    "    return generated_files\n",
    "\n",
    "print(create_csvs_by_year_return_filenames(2000, 2002, surveys_df))"
   ]
  },
  {
   "cell_type": "markdown",
   "metadata": {},
   "source": [
    "The functions we wrote demand that we give them a value for every argument. Ideally, we would like these functions to be as flexible and independent as possible. Let’s modify the function `create_csvs_by_year` so that the `start_year` and `end_year` default to the full range of the data if they are not supplied by the user. \n",
    "\n",
    "Arguments can be given default values with an equal sign in the function declaration - we call these **'keyword'** arguments. Any argument in the function without a default value (here, `all_data`) is a required argument - we call these **'positional'** arguments. Positional arguements MUST come before any keyword arguments. Keyword arguments are optional - if you don't include them when calling the function, the default value is used."
   ]
  },
  {
   "cell_type": "code",
   "execution_count": 16,
   "metadata": {},
   "outputs": [
    {
     "name": "stdout",
     "output_type": "stream",
     "text": [
      "Both optional arguments:\t 1988 1993\n",
      "Default values:\t\t\t 1977 2002\n"
     ]
    }
   ],
   "source": [
    "def keyword_arg_test(all_data, start_year = 1977, end_year = 2002):\n",
    "    \"\"\"\n",
    "    A simple function to demonstrate the use of keyword arguments with defaults !\n",
    "\n",
    "    start_year --- the first year of data we want --- default: 1977\n",
    "    end_year --- the last year of data we want --- default: 2002\n",
    "    all_data --- DataFrame with multi-year data - not actually used\n",
    "    \"\"\"\n",
    "\n",
    "    return start_year, end_year\n",
    "\n",
    "\n",
    "start,end = keyword_arg_test(surveys_df, 1988, 1993)\n",
    "print('Both optional arguments:\\t', start, end)\n",
    "\n",
    "start,end = keyword_arg_test(surveys_df)\n",
    "print('Default values:\\t\\t\\t', start, end)"
   ]
  },
  {
   "cell_type": "markdown",
   "metadata": {},
   "source": [
    "The `\\t` in the print statements are tabs, used to make the text align and be easier to read.\n",
    "\n",
    "What if our dataset doesn’t start in 1977 and end in 2002? We can modify the function so that it looks for the ealiest and latest years in the dataset if those dates are not provided. Let's redefine `csvs_by_year`:"
   ]
  },
  {
   "cell_type": "code",
   "execution_count": 17,
   "metadata": {},
   "outputs": [
    {
     "name": "stdout",
     "output_type": "stream",
     "text": [
      "Both optional arguments:\t 1988 1993\n",
      "Default values:\t\t\t 1977 2002\n"
     ]
    }
   ],
   "source": [
    "def csvs_by_year(all_data, start_year = None, end_year = None):\n",
    "    \"\"\"\n",
    "    Writes separate CSV files for each year of data. The start year and end year can \n",
    "    be optionally provided, otherwise the earliest and latest year in the dataset are\n",
    "    used as the range.\n",
    "\n",
    "    start_year --- the first year of data we want --- default: None - check all_data\n",
    "    end_year --- the last year of data we want --- default: None - check all_data\n",
    "    all_data --- DataFrame with multi-year data\n",
    "    \"\"\"\n",
    "\n",
    "    if start_year is None:\n",
    "        start_year = min(all_data.year)\n",
    "    if end_year is None:\n",
    "        end_year = max(all_data.year)\n",
    "\n",
    "    return start_year, end_year\n",
    "\n",
    "\n",
    "start,end = csvs_by_year(surveys_df, 1988, 1993)\n",
    "print('Both optional arguments:\\t', start, end)\n",
    "\n",
    "start,end = csvs_by_year(surveys_df)\n",
    "print('Default values:\\t\\t\\t', start, end)"
   ]
  },
  {
   "cell_type": "markdown",
   "metadata": {},
   "source": [
    "The default values of the `start_year` and `end_year` arguments in this new version of the `csvs_by_year` function are now `None`. This is a built-in constant in Python that indicates the absence of a value - essentially, that the variable exists in the namespace of the function (the directory of variable names) but that it doesn’t correspond to any existing object."
   ]
  },
  {
   "cell_type": "markdown",
   "metadata": {
    "tags": [
     "challenge"
    ]
   },
   "source": [
    "## Challenge - Experimenting with keyword arguments\n",
    "\n",
    "1. What type of object corresponds to a variable declared as `None` ? (Hint: create a variable set to None and use the function `type()`)\n",
    "\n",
    "2. Compare the behavior of the function `csvs_by_year` when the keyword arguments have `None` as a default vs. calling the function by supplying (non-default) values to the keyword arguments\n",
    "\n",
    "3. What happens if you only include a value for `start_year` in the function call? Can you write the function call with only a value for `end_year` ? (Hint: think about how the function must be assigning values to each of the arguments - this is related to the need to put the arguments without default values before those with default values in the function definition!)"
   ]
  },
  {
   "cell_type": "markdown",
   "metadata": {
    "tags": [
     "solution"
    ]
   },
   "source": [
    "## Solutions - Experimenting with keyword arguments"
   ]
  },
  {
   "cell_type": "code",
   "execution_count": 18,
   "metadata": {
    "tags": [
     "solution"
    ]
   },
   "outputs": [
    {
     "data": {
      "text/plain": [
       "NoneType"
      ]
     },
     "execution_count": 18,
     "metadata": {},
     "output_type": "execute_result"
    }
   ],
   "source": [
    "# Challenge 1\n",
    "the_void = None\n",
    "type(the_void)"
   ]
  },
  {
   "cell_type": "code",
   "execution_count": 19,
   "metadata": {
    "tags": [
     "solution"
    ]
   },
   "outputs": [
    {
     "name": "stdout",
     "output_type": "stream",
     "text": [
      "(1977, 2002)\n",
      "(1999, 2001)\n"
     ]
    }
   ],
   "source": [
    "# Challenge 2\n",
    "print(csvs_by_year(surveys_df))\n",
    "print(csvs_by_year(surveys_df, start_year=1999, end_year=2001))"
   ]
  },
  {
   "cell_type": "code",
   "execution_count": 20,
   "metadata": {
    "tags": [
     "solution"
    ]
   },
   "outputs": [
    {
     "name": "stdout",
     "output_type": "stream",
     "text": [
      "(1999, 2002)\n",
      "(1999, 2002)\n",
      "(1999, 2001)\n",
      "(1977, 1999)\n",
      "(1999, 2001)\n"
     ]
    }
   ],
   "source": [
    "# Challenge 3\n",
    "print(csvs_by_year(surveys_df, start_year=1999))\n",
    "\n",
    "# Keyword args are taken in order if there is no keyword used\n",
    "# Doing this is a bit dangerous (what if you later decide to add more keyword args to the function ?)\n",
    "print(csvs_by_year(surveys_df, 1999))\n",
    "print(csvs_by_year(surveys_df, 1999, end_year=2001))\n",
    "\n",
    "# But keyword args must always come last - this throws an error\n",
    "# print(csvs_by_year(surveys_df, start_year=1999, 2001))\n",
    "\n",
    "# We don't need to specify all keyword args, nor do they need to be in order\n",
    "print(csvs_by_year(surveys_df, end_year=1999))\n",
    "print(csvs_by_year(surveys_df, end_year=2001, start_year=1999))"
   ]
  },
  {
   "cell_type": "markdown",
   "metadata": {},
   "source": [
    "## Conditionals - `if` statements"
   ]
  },
  {
   "cell_type": "markdown",
   "metadata": {},
   "source": [
    "The body of the test function now has two conditionals (`if` statements) that check the values of `start_year` and `end_year`. `if` statements execute a segment of code when some condition is met. They commonly look something like this:"
   ]
  },
  {
   "cell_type": "code",
   "execution_count": 21,
   "metadata": {},
   "outputs": [
    {
     "name": "stdout",
     "output_type": "stream",
     "text": [
      "a is a positive number\n"
     ]
    }
   ],
   "source": [
    "a = 5\n",
    "\n",
    "if a < 0:  # Meets first condition?\n",
    "\n",
    "    # if a IS less than zero\n",
    "    print('a is a negative number')\n",
    "\n",
    "elif a > 0:  # Did not meet first condition. meets second condition?\n",
    "\n",
    "    # if a ISN'T less than zero and IS more than zero\n",
    "    print('a is a positive number')\n",
    "\n",
    "else:  # Met neither condition\n",
    "\n",
    "    # if a ISN'T less than zero and ISN'T more than zero\n",
    "    print('a must be zero!')"
   ]
  },
  {
   "cell_type": "markdown",
   "metadata": {},
   "source": [
    "Change the value of `a` to see how this function works. The statement `elif` means “else if”, and all of the conditional statements must end in a colon.\n",
    "\n",
    "The `if` statements in the function `csvs_by_year` check whether there is an object associated with the variable names `start_year` and `end_year`. If those variables are `None`, the `if` statements return the boolean `True` and execute whatever is in their body. On the other hand, if the variable names are associated with some value (they got a number in the function call), the `if` statements return `False` and do not execute. The opposite conditional statements, which would return `True` if the variables were associated with objects (if they had received value in the function call), would be `if start_year` and `if end_year`.\n",
    "\n",
    "As we’ve written it so far, the function `csvs_by_year` associates values in the function call with arguments in the function definition just based in their order. If the function gets only two values in the function call, the first one will be associated with `all_data` and the second with `start_year`, regardless of what we intended them to be. We can get around this problem by calling the function using keyword arguments, where each of the arguments in the function definition is associated with a keyword and the function call passes values to the function using these keywords:"
   ]
  },
  {
   "cell_type": "code",
   "execution_count": 22,
   "metadata": {},
   "outputs": [
    {
     "name": "stdout",
     "output_type": "stream",
     "text": [
      "Default values:\t\t\t 1977 2002\n",
      "No keywords:\t\t\t 1988 1993\n",
      "Both keywords, in order:\t 1988 1993\n",
      "Both keywords, flipped:\t\t 1988 1993\n",
      "One keyword, default end:\t 1988 2002\n",
      "One keyword, default start:\t 1977 1993\n"
     ]
    }
   ],
   "source": [
    "start,end = csvs_by_year(surveys_df)\n",
    "print('Default values:\\t\\t\\t', start, end)\n",
    "\n",
    "start,end = csvs_by_year(surveys_df, 1988, 1993)\n",
    "print('No keywords:\\t\\t\\t', start, end)\n",
    "\n",
    "start,end = csvs_by_year(surveys_df, start_year = 1988, end_year = 1993)\n",
    "print('Both keywords, in order:\\t', start, end)\n",
    "\n",
    "start,end = csvs_by_year(surveys_df, end_year = 1993, start_year = 1988)\n",
    "print('Both keywords, flipped:\\t\\t', start, end)\n",
    "\n",
    "start,end = csvs_by_year(surveys_df, start_year = 1988)\n",
    "print('One keyword, default end:\\t', start, end)\n",
    "\n",
    "start,end = csvs_by_year(surveys_df, end_year = 1993)\n",
    "print('One keyword, default start:\\t', start, end)"
   ]
  },
  {
   "cell_type": "markdown",
   "metadata": {
    "tags": [
     "challenge"
    ]
   },
   "source": [
    "## Multiple choice challenge\n",
    "\n",
    "What output would you expect from the `if` statement (try to figure out the answer without running the code):\n",
    "\n",
    "```python\n",
    "pod_bay_doors_open = False\n",
    "dave_want_doors_open = False\n",
    "hal_insanity_level = 2001\n",
    "\n",
    "if not pod_bay_doors_open:\n",
    "    print(\"Dave: Open the pod bay doors please HAL.\")\n",
    "    dave_wants_doors_open = True\n",
    "elif pod_bay_doors_open and hal_insanity_level >= 95:\n",
    "    print(\"HAL: I'm closing the pod bay doors, Dave.\")\n",
    "    \n",
    "if dave_wants_doors_open and not pod_bay_doors_open and hal_insanity_level >= 95:\n",
    "    print(\"HAL: I’m sorry, Dave. I’m afraid I can’t do that.\")\n",
    "elif dave_wants_doors_open and not pod_bay_doors_open:\n",
    "    print(\"HAL: I'm opening the pod bay doors, welcome back Dave.\")\n",
    "else:\n",
    "    print(\"... silence of space ...\")\n",
    "```\n",
    "\n",
    "**a)** \"HAL: I'm closing the pod bay doors, Dave.\", \"... silence of space ...\"\n",
    "\n",
    "**b)** \"Dave: Open the pod bay doors please HAL.\", \"HAL: I’m sorry, Dave. I’m afraid I can’t do that.\"\n",
    "\n",
    "**c)** \"... silence of space ...\"\n",
    "\n",
    "**d)** \"Dave: Open the pod bay doors please HAL.\", HAL: \"I'm opening the pod bay doors, welcome back Dave.\""
   ]
  },
  {
   "cell_type": "markdown",
   "metadata": {
    "tags": [
     "solution"
    ]
   },
   "source": [
    "**Option (b)**"
   ]
  },
  {
   "cell_type": "markdown",
   "metadata": {
    "tags": [
     "challenge"
    ]
   },
   "source": [
    "## Bonus Challenge - Modifying functions\n",
    "\n",
    "1. Rewrite the `year_to_csv` and `csvs_by_year` functions to have keyword arguments with default values.\n",
    "\n",
    "2. Modify the functions so that they don’t create yearly files if there is no data for a given year and display an alert to the user (Hint: use conditional statements to do this. For an extra challenge, use `try` statements !).\n",
    "\n",
    "3. The code below checks to see whether a directory exists and creates one if it doesn’t. Add some code to your function that writes out the CSV files, to check for a directory to write to.\n",
    "\n",
    "```python\n",
    "import os\n",
    "\n",
    "if 'dir_name_here' in os.listdir():\n",
    "   print('Processed directory exists')\n",
    "else:\n",
    "   os.mkdir('dir_name_here')\n",
    "   print('Processed directory created')\n",
    "```\n",
    "\n",
    "`4.` The code that you have written so far to loop through the years is good, however it is not necessarily reproducible with different datasets. For instance, what happens to the code if we have additional years of data in our CSV files? Using the tools that you learned in the previous activities, make a list of all years represented in the data. Then create a loop to process your data, that begins at the earliest year and ends at the latest year using that list.\n",
    "\n",
    "_HINT:_ you can create a loop with a list as follows: `for years in year_list:`"
   ]
  },
  {
   "cell_type": "markdown",
   "metadata": {
    "tags": [
     "solution"
    ]
   },
   "source": [
    "## Solutions - Modifying functions"
   ]
  },
  {
   "cell_type": "code",
   "execution_count": 23,
   "metadata": {
    "tags": [
     "solution"
    ]
   },
   "outputs": [],
   "source": [
    "# Solution - part 1\n",
    "\n",
    "def year_to_csv(year=None, all_data=None):\n",
    "    \"\"\"\n",
    "    Writes a csv file for data from a given year.\n",
    "\n",
    "    year --- year for which data is extracted\n",
    "    all_data --- DataFrame with multi-year data\n",
    "    \"\"\"\n",
    "\n",
    "    if all_data is None:\n",
    "        all_data = pd.read_csv(\"surveys.csv\")\n",
    "    \n",
    "    if year is None:\n",
    "        year = min(all_data.year)\n",
    "    \n",
    "    # Select data for the year\n",
    "    surveys_year = all_data[all_data.year == year]\n",
    "\n",
    "    # Write the new DataFrame to a csv file\n",
    "    filename = 'function_surveys' + str(year) + '.csv'\n",
    "    surveys_year.to_csv(filename)\n",
    "    \n",
    "    \n",
    "def csvs_by_year(start_year=None, end_year=None, all_data=None):\n",
    "    \"\"\"\n",
    "    Writes separate CSV files for each year of data.\n",
    "\n",
    "    start_year --- the first year of data we want\n",
    "    end_year --- the last year of data we want\n",
    "    all_data --- DataFrame with multi-year data\n",
    "    \"\"\"\n",
    "    \n",
    "    if all_data is None:\n",
    "        all_data = pd.read_csv(\"surveys.csv\")\n",
    "    \n",
    "    if start_year is None:\n",
    "        start_year = min(all_data.year)\n",
    "        \n",
    "    if end_year is None:\n",
    "        end_year = max(all_data.year)\n",
    "\n",
    "    # \"end_year\" is the last year of data we want to pull, so we loop to end_year+1\n",
    "    for year in range(start_year, end_year+1):\n",
    "        year_to_csv(year, all_data)"
   ]
  },
  {
   "cell_type": "code",
   "execution_count": 24,
   "metadata": {
    "tags": [
     "solution"
    ]
   },
   "outputs": [],
   "source": [
    "# Solution - part 2\n",
    "\n",
    "def csvs_by_year(start_year=None, end_year=None, all_data=None):\n",
    "    \"\"\"\n",
    "    Writes separate CSV files for each year of data.\n",
    "\n",
    "    start_year --- the first year of data we want\n",
    "    end_year --- the last year of data we want\n",
    "    all_data --- DataFrame with multi-year data\n",
    "    \"\"\"\n",
    "    \n",
    "    if all_data is None:\n",
    "        all_data = pd.read_csv(\"surveys.csv\")\n",
    "    \n",
    "    if start_year is None:\n",
    "        start_year = min(all_data.year)\n",
    "        \n",
    "    if end_year is None:\n",
    "        end_year = max(all_data.year)\n",
    "\n",
    "    # \"end_year\" is the last year of data we want to pull, so we loop to end_year+1\n",
    "    for year in range(start_year, end_year+1):\n",
    "        # print(len(all_data[all_data.year == year]))\n",
    "        if len(all_data[all_data.year == year]) > 0:\n",
    "            year_to_csv(year, all_data)\n",
    "        else:\n",
    "            print(\"Skipping: \", year, \" - no data points for this year.\")\n",
    "\n",
    "surveys_df = pd.read_csv(\"surveys.csv\")\n",
    "csvs_by_year(1977, 2002, surveys_df)"
   ]
  },
  {
   "cell_type": "code",
   "execution_count": 25,
   "metadata": {
    "tags": [
     "solution"
    ]
   },
   "outputs": [
    {
     "name": "stdout",
     "output_type": "stream",
     "text": [
      "Processed directory exists:  output\n"
     ]
    }
   ],
   "source": [
    "import os\n",
    "\n",
    "# Solution - part 3\n",
    "def year_to_csv(year=None, all_data=None, output_dir='output'):\n",
    "    \"\"\"\n",
    "    Writes a csv file for data from a given year.\n",
    "\n",
    "    year --- year for which data is extracted\n",
    "    all_data --- DataFrame with multi-year data\n",
    "    output_dir --- the output directory when CSV files will be written\n",
    "    \"\"\"\n",
    "\n",
    "    if all_data is None:\n",
    "        all_data = pd.read_csv(\"surveys.csv\")\n",
    "    \n",
    "    if year is None:\n",
    "        year = min(all_data.year)\n",
    "    \n",
    "    # Select data for the year\n",
    "    surveys_year = all_data[all_data.year == year]\n",
    "\n",
    "\n",
    "    if output_dir in os.listdir('.'):\n",
    "        print('Processed directory exists: ', output_dir)\n",
    "    else:\n",
    "        os.mkdir(output_dir)\n",
    "        print('Processed directory created: ', output_dir)\n",
    "    \n",
    "    # Write the new DataFrame to a csv file\n",
    "    filename = output_dir + '/' + 'function_surveys' + str(year) + '.csv'\n",
    "    # The more correct way to create paths is:\n",
    "    # filename = os.path.join(output_dir, 'function_surveys' + str(year) + '.csv')\n",
    "    surveys_year.to_csv(filename)\n",
    "    \n",
    "year_to_csv(2002, surveys_df)"
   ]
  },
  {
   "cell_type": "code",
   "execution_count": 26,
   "metadata": {
    "tags": [
     "solution"
    ]
   },
   "outputs": [
    {
     "name": "stdout",
     "output_type": "stream",
     "text": [
      "[1977, 1977, 1977, 1977, 1977, 1977, 1977, 1977, 1977, 1977, 1977, 1977, 1977, 1977, 1977, 1977, 1977, 1977, 1977, 1977]\n",
      "\n",
      "[1977, 1978, 1979, 1980, 1981, 1982, 1983, 1984, 1985, 1986, 1987, 1988, 1989, 1990, 1991, 1992, 1993, 1994, 1995, 1996, 1997, 1998, 1999, 2000, 2001, 2002]\n"
     ]
    }
   ],
   "source": [
    "# Solution - part 4\n",
    "def csvs_by_year(all_data):\n",
    "    \"\"\"\n",
    "    Writes separate CSV files for each year of data.\n",
    "\n",
    "    all_data --- DataFrame with multi-year data\n",
    "    \"\"\"\n",
    "\n",
    "    # We could do this, but missing years will be included in the 'range'\n",
    "    # start_year = min(all_data.year)\n",
    "    # end_year = max(all_data.year)\n",
    "    # year_list = range(start_year, end_year+1)\n",
    "    \n",
    "    # Instead, we create an empty list, then loop over all the rows, adding years\n",
    "    # we haven't seen yet to the list.\n",
    "    year_list = []\n",
    "    for year in surveys_df.year:\n",
    "        if year not in year_list:\n",
    "            year_list.append(year)\n",
    "    \n",
    "    # An elegant alternative is to use a 'set' object.\n",
    "    # A 'set' is a collection where every value is unique - no duplicates.\n",
    "    # This ensures no repeated years and has the advantage of also skipping missing years.\n",
    "    # year_list = set(surveys_df.year)\n",
    "    \n",
    "    # \"end_year\" is the last year of data we want to pull, so we loop to end_year+1\n",
    "    for year in year_list:\n",
    "        year_to_csv(year, all_data)\n",
    "        \n",
    "# The 'list' of years from each row contains duplicates (we just list the first 20 here)\n",
    "print(list(surveys_df.year)[0:20])\n",
    "\n",
    "print()\n",
    "\n",
    "# Making it a 'set' removes duplicates\n",
    "print(list(set(surveys_df.year)))"
   ]
  }
 ],
 "metadata": {
  "celltoolbar": "Tags",
  "kernelspec": {
   "display_name": "Python 3",
   "language": "python",
   "name": "python3"
  },
  "language_info": {
   "codemirror_mode": {
    "name": "ipython",
    "version": 3
   },
   "file_extension": ".py",
   "mimetype": "text/x-python",
   "name": "python",
   "nbconvert_exporter": "python",
   "pygments_lexer": "ipython3",
   "version": "3.6.3"
  }
 },
 "nbformat": 4,
 "nbformat_minor": 2
}
